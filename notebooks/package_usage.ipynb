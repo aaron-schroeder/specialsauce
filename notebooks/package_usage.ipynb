{
 "cells": [
  {
   "cell_type": "markdown",
   "metadata": {},
   "source": [
    "# Sample usage of desired packages"
   ]
  },
  {
   "cell_type": "code",
   "execution_count": 1,
   "metadata": {},
   "outputs": [],
   "source": [
    "import numpy as np\n",
    "import pandas as pd"
   ]
  },
  {
   "cell_type": "code",
   "execution_count": 2,
   "metadata": {},
   "outputs": [],
   "source": [
    "# Values\n",
    "v = 3.0  # m/s\n",
    "g = 0.2  # decimal grade\n",
    "t = 3600  # seconds\n",
    "v_array = v * (1 + np.sin(np.linspace(0, 2*np.pi, 100)))\n",
    "g_array = g * np.sin(np.linspace(0, 2*np.pi, 100))"
   ]
  },
  {
   "cell_type": "markdown",
   "metadata": {},
   "source": [
    "## Existing and proposed low-level API"
   ]
  },
  {
   "cell_type": "markdown",
   "metadata": {},
   "source": [
    "### Minetti"
   ]
  },
  {
   "cell_type": "code",
   "execution_count": 3,
   "metadata": {},
   "outputs": [],
   "source": [
    "from specialsauce.sources import minetti"
   ]
  },
  {
   "cell_type": "code",
   "execution_count": 4,
   "metadata": {},
   "outputs": [
    {
     "data": {
      "text/plain": [
       "9.006688"
      ]
     },
     "execution_count": 4,
     "metadata": {},
     "output_type": "execute_result"
    }
   ],
   "source": [
    "# cost_of_walking is analogous\n",
    "minetti.cost_of_running(g)  # -> J/kg/m"
   ]
  },
  {
   "cell_type": "code",
   "execution_count": 5,
   "metadata": {},
   "outputs": [
    {
     "data": {
      "text/plain": [
       "array([3.6       , 3.85471402, 4.12267645, 4.40201285, 4.6906614 ,\n",
       "       4.98641216, 5.28694665, 5.58987612, 5.89277755, 6.1932263 ,\n",
       "       6.48882496, 6.7772283 , 7.05616441, 7.32345233, 7.57701696,\n",
       "       7.81490168, 8.03527942, 8.23646278, 8.41691363, 8.57525236,\n",
       "       8.71026708, 8.82092234, 8.90636752, 8.9659442 , 8.99919236,\n",
       "       9.00585488, 8.98588021, 8.93942289, 8.86684192, 8.76869723,\n",
       "       8.64574418, 8.49892679, 8.32936982, 8.13837014, 7.92738777,\n",
       "       7.69803666, 7.45207526, 7.19139672, 6.91801839, 6.63406998,\n",
       "       6.34177996, 6.0434593 , 5.7414822 , 5.43826304, 5.13622953,\n",
       "       4.83779182, 4.54530822, 4.26104783, 3.98715149, 3.72559217,\n",
       "       3.47813641, 3.24630862, 3.03135984, 2.83424266, 2.65559376,\n",
       "       2.49572501, 2.3546239 , 2.23196352, 2.1271216 , 2.03920812,\n",
       "       1.96710002, 1.90948166, 1.8648892 , 1.83175706, 1.80846463,\n",
       "       1.79338151, 1.78490986, 1.78152279, 1.7817979 , 1.78444571,\n",
       "       1.78833293, 1.79250075, 1.79617872, 1.79879472, 1.79998168,\n",
       "       1.79958163, 1.79764727, 1.79444147, 1.79043446, 1.78629859,\n",
       "       1.78289994, 1.78128658, 1.78267246, 1.78841676, 1.79999801,\n",
       "       1.81898307, 1.84699113, 1.88565321, 1.93656818, 2.00125662,\n",
       "       2.08111399, 2.17736498, 2.29102087, 2.42284174, 2.57330511,\n",
       "       2.74258253, 2.93052495, 3.13665758, 3.3601841 , 3.6       ])"
      ]
     },
     "execution_count": 5,
     "metadata": {},
     "output_type": "execute_result"
    }
   ],
   "source": [
    "minetti.cost_of_running(g_array)"
   ]
  },
  {
   "cell_type": "markdown",
   "metadata": {},
   "source": [
    "### Strava"
   ]
  },
  {
   "cell_type": "code",
   "execution_count": 6,
   "metadata": {},
   "outputs": [],
   "source": [
    "from specialsauce.sources import strava"
   ]
  },
  {
   "cell_type": "code",
   "execution_count": 7,
   "metadata": {},
   "outputs": [
    {
     "data": {
      "text/plain": [
       "array(2.297)"
      ]
     },
     "execution_count": 7,
     "metadata": {},
     "output_type": "execute_result"
    }
   ],
   "source": [
    "# TODO: This currently returns a scalar ndarray, when a scalar is desired.\n",
    "strava.gap_speed_factor(g)"
   ]
  },
  {
   "cell_type": "code",
   "execution_count": 8,
   "metadata": {},
   "outputs": [
    {
     "data": {
      "text/plain": [
       "6.891"
      ]
     },
     "execution_count": 8,
     "metadata": {},
     "output_type": "execute_result"
    }
   ],
   "source": [
    "strava.gap_speed(v, g)  # decimal grade and m/s only"
   ]
  },
  {
   "cell_type": "code",
   "execution_count": 9,
   "metadata": {},
   "outputs": [
    {
     "data": {
      "text/plain": [
       "array([1.        , 1.03488316, 1.07627396, 1.126401  , 1.18256763,\n",
       "       1.24111646, 1.30611208, 1.37334979, 1.44216002, 1.52191199,\n",
       "       1.60282147, 1.68003522, 1.75324231, 1.82214797, 1.89316822,\n",
       "       1.96249502, 2.02590468, 2.08314187, 2.13397612, 2.17820274,\n",
       "       2.21564364, 2.24614807, 2.26959319, 2.28588459, 2.29495668,\n",
       "       2.29677293, 2.29132602, 2.27863788, 2.25875961, 2.23177125,\n",
       "       2.19778148, 2.15692715, 2.10937277, 2.05530983, 1.99495602,\n",
       "       1.92855436, 1.85637223, 1.78825058, 1.71715841, 1.64191011,\n",
       "       1.56280867, 1.4801726 , 1.40803636, 1.33813525, 1.27380196,\n",
       "       1.21101128, 1.1538888 , 1.10140112, 1.05228082, 1.01745036,\n",
       "       0.98730883, 0.96197758, 0.93563941, 0.91251616, 0.89593221,\n",
       "       0.88469698, 0.876     , 0.876     , 0.87955612, 0.89343556,\n",
       "       0.90672134, 0.91935994, 0.93130048, 0.94421976, 0.96662663,\n",
       "       0.98723912, 1.00597423, 1.02275651, 1.0375184 , 1.05020046,\n",
       "       1.06075161, 1.06912937, 1.07530001, 1.07923867, 1.08092951,\n",
       "       1.08036571, 1.07754954, 1.07249234, 1.06521448, 1.05574526,\n",
       "       1.0441228 , 1.03039392, 1.01461388, 0.99684624, 0.97716253,\n",
       "       0.95564202, 0.93699384, 0.92542054, 0.91312478, 0.90015606,\n",
       "       0.88656661, 0.876     , 0.876     , 0.88025063, 0.88919498,\n",
       "       0.90419004, 0.92251448, 0.94883117, 0.97463043, 1.        ])"
      ]
     },
     "execution_count": 9,
     "metadata": {},
     "output_type": "execute_result"
    }
   ],
   "source": [
    "strava.gap_speed_factor(g_array)"
   ]
  },
  {
   "cell_type": "code",
   "execution_count": 10,
   "metadata": {},
   "outputs": [
    {
     "data": {
      "text/plain": [
       "array([3.00000000e+00, 3.30155851e+00, 3.63756637e+00, 4.01872136e+00,\n",
       "       4.43870132e+00, 4.88515890e+00, 5.37463470e+00, 5.89082564e+00,\n",
       "       6.43000054e+00, 7.03415918e+00, 7.65944111e+00, 8.27982313e+00,\n",
       "       8.88935409e+00, 9.48204826e+00, 1.00876321e+01, 1.06832888e+01,\n",
       "       1.12421022e+01, 1.17580028e+01, 1.22253272e+01, 1.26388985e+01,\n",
       "       1.29941002e+01, 1.32869422e+01, 1.35141185e+01, 1.36730539e+01,\n",
       "       1.37619419e+01, 1.37797703e+01, 1.37263359e+01, 1.36022475e+01,\n",
       "       1.34089171e+01, 1.31485394e+01, 1.28240603e+01, 1.24391345e+01,\n",
       "       1.19980729e+01, 1.15057811e+01, 1.09676888e+01, 1.03896730e+01,\n",
       "       9.77797427e+00, 9.18817902e+00, 8.58631923e+00, 7.97061480e+00,\n",
       "       7.34704422e+00, 6.72151141e+00, 6.15970788e+00, 5.62390361e+00,\n",
       "       5.12840365e+00, 4.65657774e+00, 4.22430795e+00, 3.82627209e+00,\n",
       "       3.45691943e+00, 3.14919588e+00, 2.86795067e+00, 2.61160740e+00,\n",
       "       2.36342124e+00, 2.13443771e+00, 1.93055681e+00, 1.74633837e+00,\n",
       "       1.57435455e+00, 1.42378070e+00, 1.28324408e+00, 1.16041234e+00,\n",
       "       1.03867018e+00, 9.19077695e-01, 8.02704172e-01, 6.91878236e-01,\n",
       "       5.92266132e-01, 4.95880767e-01, 4.04324972e-01, 3.19119134e-01,\n",
       "       2.41676547e-01, 1.73280496e-01, 1.15063465e-01, 6.79887820e-02,\n",
       "       3.28350109e-02, 1.01833423e-02, 4.08177336e-04, 3.67106372e-03,\n",
       "       1.99180794e-02, 4.88807056e-02, 9.00801766e-02, 1.42835234e-01,\n",
       "       2.06273162e-01, 2.79343927e-01, 3.60837190e-01, 4.49401921e-01,\n",
       "       5.43568297e-01, 6.41771535e-01, 7.46057806e-01, 8.60421748e-01,\n",
       "       9.78538454e-01, 1.09933919e+00, 1.22175754e+00, 1.35027498e+00,\n",
       "       1.49849897e+00, 1.65928356e+00, 1.83520923e+00, 2.03131360e+00,\n",
       "       2.24378239e+00, 2.48614891e+00, 2.73844665e+00, 3.00000000e+00])"
      ]
     },
     "execution_count": 10,
     "metadata": {},
     "output_type": "execute_result"
    }
   ],
   "source": [
    "strava.gap_speed(v_array, g_array)"
   ]
  },
  {
   "cell_type": "markdown",
   "metadata": {},
   "source": [
    "### TrainingPeaks"
   ]
  },
  {
   "cell_type": "code",
   "execution_count": 11,
   "metadata": {},
   "outputs": [],
   "source": [
    "from specialsauce.sources import trainingpeaks"
   ]
  },
  {
   "cell_type": "code",
   "execution_count": 12,
   "metadata": {},
   "outputs": [
    {
     "data": {
      "text/plain": [
       "array(2.365)"
      ]
     },
     "execution_count": 12,
     "metadata": {},
     "output_type": "execute_result"
    }
   ],
   "source": [
    "trainingpeaks.ngp_speed_factor(g)"
   ]
  },
  {
   "cell_type": "code",
   "execution_count": 13,
   "metadata": {},
   "outputs": [
    {
     "data": {
      "text/plain": [
       "7.095000000000001"
      ]
     },
     "execution_count": 13,
     "metadata": {},
     "output_type": "execute_result"
    }
   ],
   "source": [
    "from specialsauce.sources import trainingpeaks_next\n",
    "trainingpeaks_next.ngp_speed(v, g)"
   ]
  },
  {
   "cell_type": "code",
   "execution_count": 14,
   "metadata": {},
   "outputs": [
    {
     "name": "stderr",
     "output_type": "stream",
     "text": [
      "/home/aaron/aaron-schroeder/specialsauce/env/lib/python3.8/site-packages/specialsauce/sources/trainingpeaks_next.py:53: RuntimeWarning: divide by zero encountered in true_divide\n",
      "  return 100 * (ngp / ftp) ** 2 * (duration_sec / 3600)\n"
     ]
    },
    {
     "data": {
      "text/plain": [
       "array([           inf, 6.32541772e+06, 1.78197070e+06, 8.88489418e+05,\n",
       "       5.58393659e+05, 3.97804816e+05, 3.06464121e+05, 2.49004659e+05,\n",
       "       2.10237918e+05, 1.82712246e+05, 1.62401243e+05, 1.46963796e+05,\n",
       "       1.34958082e+05, 1.25454142e+05, 1.17829139e+05, 1.11652808e+05,\n",
       "       1.06620281e+05, 1.02511067e+05, 9.91631759e+04, 9.64563036e+04,\n",
       "       9.43006707e+04, 9.26294765e+04, 9.13937496e+04, 9.05588410e+04,\n",
       "       9.01020840e+04, 9.00113303e+04, 9.02841873e+04, 9.09278696e+04,\n",
       "       9.19596486e+04, 9.34079496e+04, 9.53142260e+04, 9.77358365e+04,\n",
       "       1.00750300e+05, 1.04461524e+05, 1.09008969e+05, 1.14581308e+05,\n",
       "       1.21437226e+05, 1.29937870e+05, 1.40599102e+05, 1.54178751e+05,\n",
       "       1.71828767e+05, 1.95374673e+05, 2.27862081e+05, 2.74711888e+05,\n",
       "       3.46415422e+05, 4.65696824e+05, 6.90323593e+05, 1.20858955e+06,\n",
       "       2.98604085e+06, 2.37919108e+07, 2.09552937e+07, 2.03923098e+06,\n",
       "       6.38974332e+05, 2.81809307e+05, 1.46244926e+05, 8.32730258e+04,\n",
       "       5.02340990e+04, 3.14526727e+04, 2.01674289e+04, 1.31153655e+04,\n",
       "       8.58513825e+03, 5.61982134e+03, 3.65649495e+03, 2.35015959e+03,\n",
       "       1.48214289e+03, 9.09931003e+02, 5.38475773e+02, 3.03173479e+02,\n",
       "       1.59449020e+02, 7.62132704e+01, 3.16647215e+01, 1.05527079e+01,\n",
       "       2.37925683e+00, 2.23986532e-01, 3.56576216e-04, 2.89312132e-02,\n",
       "       8.64826186e-01, 5.35455797e+00, 1.89304186e+01, 5.01850784e+01,\n",
       "       1.11812679e+02, 2.22065171e+02, 4.06969922e+02, 7.03714136e+02,\n",
       "       1.16587359e+03, 1.87164323e+03, 2.93710482e+03, 4.53823372e+03,\n",
       "       6.94865186e+03, 1.06070176e+04, 1.62431278e+04, 2.51276664e+04,\n",
       "       3.96024591e+04, 6.43089109e+04, 1.09374196e+05, 2.00039204e+05,\n",
       "       4.12931118e+05, 1.07102785e+06, 4.90639473e+06, 3.75060064e+35])"
      ]
     },
     "execution_count": 14,
     "metadata": {},
     "output_type": "execute_result"
    }
   ],
   "source": [
    "trainingpeaks_next.training_stress_score(v_array, g_array, t)  # assumes 1-second samples\n",
    "#                                        (x_array, y_array)  # assumes 1-second samples\n",
    "#                                        (x_array, y_array, t_array)"
   ]
  },
  {
   "cell_type": "code",
   "execution_count": 15,
   "metadata": {},
   "outputs": [],
   "source": [
    "import datetime\n",
    "\n",
    "df = pd.DataFrame(dict(\n",
    "  tss=[10, 0, 10, 0, 20, 20],\n",
    "  recorded=[\n",
    "    datetime.datetime(1989, 12, 4) + datetime.timedelta(days=i)\n",
    "    # for i in [0, 1, 2, 3, 4, 5]\n",
    "    for i in [0, 2, 4, 6, 8, 10]\n",
    "  ]\n",
    "))"
   ]
  },
  {
   "cell_type": "code",
   "execution_count": 16,
   "metadata": {},
   "outputs": [
    {
     "data": {
      "text/html": [
       "<div>\n",
       "<style scoped>\n",
       "    .dataframe tbody tr th:only-of-type {\n",
       "        vertical-align: middle;\n",
       "    }\n",
       "\n",
       "    .dataframe tbody tr th {\n",
       "        vertical-align: top;\n",
       "    }\n",
       "\n",
       "    .dataframe thead th {\n",
       "        text-align: right;\n",
       "    }\n",
       "</style>\n",
       "<table border=\"1\" class=\"dataframe\">\n",
       "  <thead>\n",
       "    <tr style=\"text-align: right;\">\n",
       "      <th></th>\n",
       "      <th>tss</th>\n",
       "      <th>recorded</th>\n",
       "      <th>ATL_pre</th>\n",
       "      <th>CTL_pre</th>\n",
       "      <th>ATL_post</th>\n",
       "      <th>CTL_post</th>\n",
       "    </tr>\n",
       "  </thead>\n",
       "  <tbody>\n",
       "    <tr>\n",
       "      <th>0</th>\n",
       "      <td>10</td>\n",
       "      <td>1989-12-04</td>\n",
       "      <td>0.000000</td>\n",
       "      <td>0.000000</td>\n",
       "      <td>1.428571</td>\n",
       "      <td>0.238095</td>\n",
       "    </tr>\n",
       "    <tr>\n",
       "      <th>1</th>\n",
       "      <td>0</td>\n",
       "      <td>1989-12-06</td>\n",
       "      <td>1.049563</td>\n",
       "      <td>0.226892</td>\n",
       "      <td>1.049563</td>\n",
       "      <td>0.226892</td>\n",
       "    </tr>\n",
       "    <tr>\n",
       "      <th>2</th>\n",
       "      <td>10</td>\n",
       "      <td>1989-12-08</td>\n",
       "      <td>0.771107</td>\n",
       "      <td>0.216217</td>\n",
       "      <td>2.199679</td>\n",
       "      <td>0.454312</td>\n",
       "    </tr>\n",
       "    <tr>\n",
       "      <th>3</th>\n",
       "      <td>0</td>\n",
       "      <td>1989-12-10</td>\n",
       "      <td>1.616090</td>\n",
       "      <td>0.432935</td>\n",
       "      <td>1.616090</td>\n",
       "      <td>0.432935</td>\n",
       "    </tr>\n",
       "    <tr>\n",
       "      <th>4</th>\n",
       "      <td>20</td>\n",
       "      <td>1989-12-12</td>\n",
       "      <td>1.187332</td>\n",
       "      <td>0.412565</td>\n",
       "      <td>4.044475</td>\n",
       "      <td>0.888755</td>\n",
       "    </tr>\n",
       "    <tr>\n",
       "      <th>5</th>\n",
       "      <td>20</td>\n",
       "      <td>1989-12-14</td>\n",
       "      <td>2.971451</td>\n",
       "      <td>0.846938</td>\n",
       "      <td>5.828594</td>\n",
       "      <td>1.323128</td>\n",
       "    </tr>\n",
       "  </tbody>\n",
       "</table>\n",
       "</div>"
      ],
      "text/plain": [
       "   tss   recorded   ATL_pre   CTL_pre  ATL_post  CTL_post\n",
       "0   10 1989-12-04  0.000000  0.000000  1.428571  0.238095\n",
       "1    0 1989-12-06  1.049563  0.226892  1.049563  0.226892\n",
       "2   10 1989-12-08  0.771107  0.216217  2.199679  0.454312\n",
       "3    0 1989-12-10  1.616090  0.432935  1.616090  0.432935\n",
       "4   20 1989-12-12  1.187332  0.412565  4.044475  0.888755\n",
       "5   20 1989-12-14  2.971451  0.846938  5.828594  1.323128"
      ]
     },
     "execution_count": 16,
     "metadata": {},
     "output_type": "execute_result"
    }
   ],
   "source": [
    "trainingpeaks_next.calc_ctl_atl(df)\n",
    "# df['CTL_post']\n",
    "df"
   ]
  },
  {
   "cell_type": "code",
   "execution_count": 17,
   "metadata": {},
   "outputs": [
    {
     "ename": "TypeError",
     "evalue": "chronic_training_load() missing 1 required positional argument: 'day_arr'",
     "output_type": "error",
     "traceback": [
      "\u001b[0;31m---------------------------------------------------------------------------\u001b[0m",
      "\u001b[0;31mTypeError\u001b[0m                                 Traceback (most recent call last)",
      "Cell \u001b[0;32mIn[17], line 2\u001b[0m\n\u001b[1;32m      1\u001b[0m \u001b[39m# trainingpeaks.chronic_training_load(df['tss'], df['recorded']) - df['CTL_post']\u001b[39;00m\n\u001b[0;32m----> 2\u001b[0m trainingpeaks_next\u001b[39m.\u001b[39;49mchronic_training_load(df[\u001b[39m'\u001b[39;49m\u001b[39mtss\u001b[39;49m\u001b[39m'\u001b[39;49m]) \u001b[39m-\u001b[39m df[\u001b[39m'\u001b[39m\u001b[39mCTL_post\u001b[39m\u001b[39m'\u001b[39m]\n",
      "\u001b[0;31mTypeError\u001b[0m: chronic_training_load() missing 1 required positional argument: 'day_arr'"
     ]
    }
   ],
   "source": [
    "# trainingpeaks.chronic_training_load(df['tss'], df['recorded']) - df['CTL_post']\n",
    "trainingpeaks_next.chronic_training_load(df['tss']) - df['CTL_post']"
   ]
  },
  {
   "cell_type": "code",
   "execution_count": 18,
   "metadata": {},
   "outputs": [
    {
     "ename": "TypeError",
     "evalue": "acute_training_load() missing 1 required positional argument: 'day_arr'",
     "output_type": "error",
     "traceback": [
      "\u001b[0;31m---------------------------------------------------------------------------\u001b[0m",
      "\u001b[0;31mTypeError\u001b[0m                                 Traceback (most recent call last)",
      "Cell \u001b[0;32mIn[18], line 2\u001b[0m\n\u001b[1;32m      1\u001b[0m \u001b[39m# trainingpeaks.acute_training_load(df['tss'], df['recorded']) - df['ATL_post']\u001b[39;00m\n\u001b[0;32m----> 2\u001b[0m trainingpeaks_next\u001b[39m.\u001b[39;49macute_training_load(df[\u001b[39m'\u001b[39;49m\u001b[39mtss\u001b[39;49m\u001b[39m'\u001b[39;49m]) \u001b[39m-\u001b[39m df[\u001b[39m'\u001b[39m\u001b[39mATL_post\u001b[39m\u001b[39m'\u001b[39m]\n",
      "\u001b[0;31mTypeError\u001b[0m: acute_training_load() missing 1 required positional argument: 'day_arr'"
     ]
    }
   ],
   "source": [
    "# trainingpeaks.acute_training_load(df['tss'], df['recorded']) - df['ATL_post']\n",
    "trainingpeaks_next.acute_training_load(df['tss']) - df['ATL_post']"
   ]
  },
  {
   "cell_type": "markdown",
   "metadata": {},
   "source": [
    "### Jones (2002)\n",
    "\n",
    "Based on XXX"
   ]
  },
  {
   "cell_type": "code",
   "execution_count": 19,
   "metadata": {},
   "outputs": [],
   "source": [
    "from specialsauce.sources import jones"
   ]
  },
  {
   "cell_type": "code",
   "execution_count": 20,
   "metadata": {},
   "outputs": [
    {
     "name": "stdout",
     "output_type": "stream",
     "text": [
      "1.0\n"
     ]
    },
    {
     "data": {
      "text/plain": [
       "[13.0,\n",
       " 13.0,\n",
       " 13.0,\n",
       " 13.0,\n",
       " 13.0,\n",
       " 13.0,\n",
       " 13.0,\n",
       " 13.0,\n",
       " 13.0,\n",
       " 13.0,\n",
       " 13.0,\n",
       " 13.0,\n",
       " 13.0,\n",
       " 13.0,\n",
       " 13.0,\n",
       " 13.0,\n",
       " 13.0,\n",
       " 13.0,\n",
       " 13.0,\n",
       " 13.0]"
      ]
     },
     "execution_count": 20,
     "metadata": {},
     "output_type": "execute_result"
    }
   ],
   "source": [
    "# TODO: Fix this function!\n",
    "\n",
    "n = 20\n",
    "vo_2_ss_arr = [13.0 for _ in range(n)]\n",
    "seconds_arr = [i for i in range(n)]\n",
    "\n",
    "jones.aerobic_vo_2_timeseries(vo_2_ss_arr, seconds_arr, tau=20)"
   ]
  },
  {
   "cell_type": "markdown",
   "metadata": {},
   "source": [
    "### Daniels Running Formula (DRF)"
   ]
  },
  {
   "cell_type": "code",
   "execution_count": null,
   "metadata": {},
   "outputs": [
    {
     "ename": "ImportError",
     "evalue": "cannot import name 'daniels' from 'specialsauce.sources' (/home/aaron/aaron-schroeder/specialsauce/env/lib/python3.8/site-packages/specialsauce/sources/__init__.py)",
     "output_type": "error",
     "traceback": [
      "\u001b[0;31m---------------------------------------------------------------------------\u001b[0m",
      "\u001b[0;31mImportError\u001b[0m                               Traceback (most recent call last)",
      "Cell \u001b[0;32mIn[25], line 1\u001b[0m\n\u001b[0;32m----> 1\u001b[0m \u001b[39mfrom\u001b[39;00m \u001b[39mspecialsauce\u001b[39;00m\u001b[39m.\u001b[39;00m\u001b[39msources\u001b[39;00m \u001b[39mimport\u001b[39;00m daniels \u001b[39mas\u001b[39;00m drf\n",
      "\u001b[0;31mImportError\u001b[0m: cannot import name 'daniels' from 'specialsauce.sources' (/home/aaron/aaron-schroeder/specialsauce/env/lib/python3.8/site-packages/specialsauce/sources/__init__.py)"
     ]
    }
   ],
   "source": [
    "from specialsauce.sources import daniels as drf"
   ]
  },
  {
   "cell_type": "markdown",
   "metadata": {},
   "source": [
    "#### Fundamental equations\n",
    "\n",
    "Daniels Running Formula is based on just a couple of equations with some baked-in assumptions."
   ]
  },
  {
   "cell_type": "markdown",
   "metadata": {},
   "source": [
    "The first equation defines the oxygen consumption rate required to run at a particular velocity. It assumes that every runner consumes the same amount of oxygen at a given speed per kilogram of body mass.\n",
    "\n",
    "In other words, this equation defines running economy: the amount of energy required to move at a particular speed.\n",
    "\n",
    "Daniels originally published this equation in a book called \"Oxygen Power\" (verify!) which is now out of print. It was derived from laboratory measurements of the oxygen consumption of elite runners.\n",
    "\n",
    "TODO: Research the background of this equation:\n",
    "- What paper/book was it published in\n",
    "- What was the experimental setup\n",
    "- Who were the athletes tested"
   ]
  },
  {
   "cell_type": "code",
   "execution_count": null,
   "metadata": {},
   "outputs": [],
   "source": [
    "v_mmin = v * 60  # meters/minute\n",
    "t_min = t / 60  # minutes\n",
    "d_m = v * t  # meters"
   ]
  },
  {
   "cell_type": "code",
   "execution_count": null,
   "metadata": {},
   "outputs": [
    {
     "data": {
      "text/plain": [
       "31.57604"
      ]
     },
     "execution_count": 22,
     "metadata": {},
     "output_type": "execute_result"
    }
   ],
   "source": [
    "drf.oxygen_cost_v(v_mmin)  # mL/kg/min"
   ]
  },
  {
   "cell_type": "code",
   "execution_count": null,
   "metadata": {},
   "outputs": [
    {
     "data": {
      "text/plain": [
       "31.57604"
      ]
     },
     "execution_count": 23,
     "metadata": {},
     "output_type": "execute_result"
    }
   ],
   "source": [
    "drf.oxygen_cost(d_m, t_min)  # mL/kg/min"
   ]
  },
  {
   "cell_type": "markdown",
   "metadata": {},
   "source": [
    "The second equation describes the percentage of VO2max that is sustainable for a given period of activity. For shorter bouts, a given runner can maintain a higher percentage of VO2max.\n",
    "\n",
    "Like the running economy equation, the intensity equation assumes all runners have the same profile."
   ]
  },
  {
   "cell_type": "code",
   "execution_count": null,
   "metadata": {},
   "outputs": [
    {
     "data": {
      "text/plain": [
       "0.8880073144800814"
      ]
     },
     "execution_count": 24,
     "metadata": {},
     "output_type": "execute_result"
    }
   ],
   "source": [
    "vo2_max_fraction = drf.drop_dead_intensity(t_min)\n",
    "vo2_max_fraction"
   ]
  },
  {
   "cell_type": "markdown",
   "metadata": {},
   "source": [
    "#### Derived equations\n",
    "\n",
    "The real utility of Daniels Running Formula comes from combining and manipulating the two fundamental equations."
   ]
  },
  {
   "cell_type": "code",
   "execution_count": null,
   "metadata": {},
   "outputs": [],
   "source": [
    "race_dist_m = 5000  # meters\n",
    "vo2max = 50  # the given athlete's VO2max [mL/kg/min]"
   ]
  },
  {
   "cell_type": "markdown",
   "metadata": {},
   "source": [
    "Calculate the speed that will result in VO2max oxygen consumption (vVO2max):"
   ]
  },
  {
   "cell_type": "code",
   "execution_count": null,
   "metadata": {},
   "outputs": [
    {
     "data": {
      "text/plain": [
       "260.77202148708056"
      ]
     },
     "execution_count": 26,
     "metadata": {},
     "output_type": "execute_result"
    }
   ],
   "source": [
    "drf.vdot_to_speed(vo2max)  # m/min"
   ]
  },
  {
   "cell_type": "markdown",
   "metadata": {},
   "source": [
    "For a given race distance, predict the finishing time of a runner with a given VO2max:"
   ]
  },
  {
   "cell_type": "code",
   "execution_count": null,
   "metadata": {},
   "outputs": [
    {
     "data": {
      "text/plain": [
       "19.93368040546417"
      ]
     },
     "execution_count": 27,
     "metadata": {},
     "output_type": "execute_result"
    }
   ],
   "source": [
    "predicted_finish_time_min = drf.predict_time(race_dist_m, vo2max)  # minutes\n",
    "predicted_finish_time_min"
   ]
  },
  {
   "cell_type": "markdown",
   "metadata": {},
   "source": [
    "For a given race distance and finish time, predict the VO2max of the athlete \n",
    "(note: this VO2max should be the exact value we assigned above, since we're round-tripping)."
   ]
  },
  {
   "cell_type": "code",
   "execution_count": null,
   "metadata": {},
   "outputs": [
    {
     "data": {
      "text/plain": [
       "50.00000000000013"
      ]
     },
     "execution_count": 28,
     "metadata": {},
     "output_type": "execute_result"
    }
   ],
   "source": [
    "drf.predict_vo2max(race_dist_m, predicted_finish_time_min)"
   ]
  },
  {
   "attachments": {},
   "cell_type": "markdown",
   "metadata": {},
   "source": [
    "## Core API functions (with proposed updates)"
   ]
  },
  {
   "cell_type": "code",
   "execution_count": 22,
   "metadata": {},
   "outputs": [],
   "source": [
    "import math\n",
    "from specialsauce import core\n",
    "\n",
    "n_t = 60 * 60 * 3  # 3 hours in seconds\n",
    "time_series = pd.Series(range(n_t))\n",
    "speed = 3.0\n",
    "speed_series = pd.Series([3.0 + math.sin(0.1 * t) for t in time_series])\n",
    "grade_series = pd.Series([-4.0 + math.sin(0.1 * t) for t in time_series])"
   ]
  },
  {
   "cell_type": "code",
   "execution_count": null,
   "metadata": {},
   "outputs": [],
   "source": [
    "\n",
    "# core.cost_of_wind_running(speed)\n",
    "# core.cost_of_inclined_treadmill_running(grade)\n",
    "c_r = core.run_cost(speed, grade=0.0)\n",
    "p = core.run_power(speed, grade=0.0)\n",
    "p_met_ss = core.power_met_ss(speed_series, grade_series=None)\n",
    "p_met = core.power_met(speed_series, grade_series=None, time_series=None, tau=20)\n",
    "vo_2_aer_ss = core.vo_2_ss(speed_series, grade_series=None)\n",
    "vo_2_aer = core.vo_2_ss(speed_series, grade_series=None, time_series=None, tau=20)\n",
    "v_equiv = core.equiv_flat_speed(speed, grade=0.0)\n",
    "v_flat = core.power_to_flat_speed(vo_2_aer)"
   ]
  },
  {
   "cell_type": "markdown",
   "metadata": {},
   "source": [
    "### Utilities"
   ]
  },
  {
   "cell_type": "code",
   "execution_count": null,
   "metadata": {},
   "outputs": [],
   "source": [
    "from specialsauce import util\n",
    "v_sma = util.sma(v_array, window_len, time_series=None)\n",
    "v_ewma = util.ewma(v_array, half_life, time_series=None)"
   ]
  },
  {
   "cell_type": "markdown",
   "metadata": {},
   "source": [
    "#### Non-working example of why `pandas.df.ewm` does not do what I need it to\n",
    "\n",
    "```python\n",
    "x_series_pad = pd.concat([pd.Series([0.0]), df['tss']])\n",
    "t_series_pad = pd.concat([\n",
    "  pd.Series([0]).apply(pd.to_datetime, unit='s'),\n",
    "  df['recorded']\n",
    "])\n",
    "x_avg_pad = x_series_pad.ewm(\n",
    "  alpha=1/42, \n",
    "  adjust=False,\n",
    "  times=t_series_pad\n",
    ").mean()\n",
    "x_avg_pad[1:]\n",
    "```\n",
    "\n",
    "``ewm`` says:\n",
    "\n",
    "``NotImplementedError: times is not supported with adjust=False.``\n",
    "\n",
    "Although the following works, as long as one workout per day:\n",
    "\n",
    "```python\n",
    "x_series_pad = pd.concat([pd.Series([0.0]), df['tss']])\n",
    "x_avg_pad = df['tss'].ewm(alpha=1/42, adjust=False).mean()\n",
    "x_avg_pad[1:]\n",
    "```"
   ]
  },
  {
   "cell_type": "markdown",
   "metadata": {},
   "source": [
    "### Old heartandsole functions (w/ proposed updates)"
   ]
  },
  {
   "cell_type": "markdown",
   "metadata": {},
   "source": [
    "```python\n",
    "powerutils.air_friction_coefficient(Cd, mass, proj_area, density_air_local)\n",
    "powerutils.run_cost(speed, grade=None)\n",
    "powerutils.run_power(speeds, grades=None)\n",
    "powerutils.flat_run_power(pace)\n",
    "powerutils.flat_speed(power)\n",
    "```"
   ]
  },
  {
   "cell_type": "markdown",
   "metadata": {},
   "source": [
    "```python\n",
    "stressutils.lactate_norm(series)\n",
    "stressutils.training_stress(intensity, moving_time_seconds)\n",
    "```"
   ]
  }
 ],
 "metadata": {
  "kernelspec": {
   "display_name": "Python 3.8.10 ('envinstall': venv)",
   "language": "python",
   "name": "python3"
  },
  "language_info": {
   "codemirror_mode": {
    "name": "ipython",
    "version": 3
   },
   "file_extension": ".py",
   "mimetype": "text/x-python",
   "name": "python",
   "nbconvert_exporter": "python",
   "pygments_lexer": "ipython3",
   "version": "3.8.10"
  },
  "orig_nbformat": 4,
  "vscode": {
   "interpreter": {
    "hash": "d8d9daa17152f8645414f924c81993084035c325a2d6a6aaf786ecacd4d72771"
   }
  }
 },
 "nbformat": 4,
 "nbformat_minor": 2
}
