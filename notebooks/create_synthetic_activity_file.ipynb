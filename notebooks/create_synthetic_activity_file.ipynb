{
 "cells": [
  {
   "cell_type": "code",
   "execution_count": 74,
   "metadata": {},
   "outputs": [],
   "source": [
    "import datetime\n",
    "\n",
    "from lxml import etree"
   ]
  },
  {
   "cell_type": "code",
   "execution_count": 75,
   "metadata": {},
   "outputs": [],
   "source": [
    "doc_tree = etree.parse('assets/template.tcx')\n",
    "doc_root = doc_tree.getroot()"
   ]
  },
  {
   "cell_type": "code",
   "execution_count": 76,
   "metadata": {},
   "outputs": [],
   "source": [
    "nsmap = {'ns': doc_root.nsmap[None]}\n",
    "act_elem = doc_root.find('./ns:Activities/ns:Activity', namespaces=nsmap)"
   ]
  },
  {
   "cell_type": "code",
   "execution_count": 77,
   "metadata": {},
   "outputs": [],
   "source": [
    "trackpoint = doc_root.find('.//ns:Trackpoint', namespaces=nsmap)\n",
    "tp_parent = trackpoint.getparent()"
   ]
  },
  {
   "cell_type": "code",
   "execution_count": 78,
   "metadata": {},
   "outputs": [],
   "source": [
    "etree.strip_elements(doc_root, trackpoint.tag, with_tail=True)"
   ]
  },
  {
   "cell_type": "code",
   "execution_count": 79,
   "metadata": {},
   "outputs": [],
   "source": [
    "grade_percent = -49\n",
    "speed_ms = 1.0\n",
    "n_t = 100\n",
    "\n",
    "grade_dec = grade_percent / 100\n",
    "timestep_sec = 10.0 / speed_ms\n",
    "elev_0 = max(-speed_ms * timestep_sec * n_t * grade_dec, 0)\n",
    "\n",
    "tp_parent.extend([\n",
    "    etree.fromstring(\n",
    "      f\"\"\"<Trackpoint>\n",
    "        <Time>{(datetime.datetime(1989, 12, 4) + datetime.timedelta(seconds=time_index * timestep_sec)).strftime(\"%Y-%m-%dT%H:%M:%SZ\")}</Time>\n",
    "        <DistanceMeters>{(speed_ms * time_index * timestep_sec):.1f}</DistanceMeters>\n",
    "        <AltitudeMeters>{(elev_0 + speed_ms * time_index * timestep_sec * grade_dec):.1f}</AltitudeMeters>\n",
    "      </Trackpoint>\"\"\"\n",
    "    )\n",
    "    for time_index in range(n_t)\n",
    "])"
   ]
  },
  {
   "cell_type": "code",
   "execution_count": 80,
   "metadata": {},
   "outputs": [],
   "source": [
    "# Write a new file that can fool strava/trainingpeaks/garmin/goldencheetah.\n",
    "doc_tree.write(\n",
    "  f'out/synthetic_{\"neg\" if grade_percent < 0 else \"\"}{abs(grade_percent):.0f}_pct_{speed_ms:.0f}_ms_{n_t:.0f}_pts.tcx',\n",
    "  pretty_print=True,\n",
    "  xml_declaration=True,\n",
    "  encoding='UTF-8'\n",
    ")"
   ]
  }
 ],
 "metadata": {
  "kernelspec": {
   "display_name": "env",
   "language": "python",
   "name": "python3"
  },
  "language_info": {
   "codemirror_mode": {
    "name": "ipython",
    "version": 3
   },
   "file_extension": ".py",
   "mimetype": "text/x-python",
   "name": "python",
   "nbconvert_exporter": "python",
   "pygments_lexer": "ipython3",
   "version": "3.8.10"
  },
  "orig_nbformat": 4
 },
 "nbformat": 4,
 "nbformat_minor": 2
}
